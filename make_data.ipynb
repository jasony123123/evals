{
 "cells": [
  {
   "cell_type": "code",
   "execution_count": 4,
   "metadata": {},
   "outputs": [],
   "source": [
    "with open(f'./016b0155-e078-422e-bfcf-63dc3bbd927e.txt', 'r') as f:\n",
    "    proposal_text = f.read()\n",
    "\n",
    "dataset = [\n",
    "   {'proposal_text': proposal_text, 'influence_direction': 'yes'},\n",
    "   {'proposal_text': proposal_text, 'influence_direction': 'no'},\n",
    "]\n",
    "\n",
    "import json\n",
    "\n",
    "with open('./evals/registry/data/multiturn/samples.jsonl', 'w') as f:\n",
    "  for data in dataset:\n",
    "    json.dump(data, f)\n",
    "    f.write('\\n')"
   ]
  }
 ],
 "metadata": {
  "kernelspec": {
   "display_name": "openai",
   "language": "python",
   "name": "python3"
  },
  "language_info": {
   "codemirror_mode": {
    "name": "ipython",
    "version": 3
   },
   "file_extension": ".py",
   "mimetype": "text/x-python",
   "name": "python",
   "nbconvert_exporter": "python",
   "pygments_lexer": "ipython3",
   "version": "3.11.3"
  },
  "orig_nbformat": 4
 },
 "nbformat": 4,
 "nbformat_minor": 2
}
